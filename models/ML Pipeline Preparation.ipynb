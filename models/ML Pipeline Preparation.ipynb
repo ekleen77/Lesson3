{
 "cells": [
  {
   "cell_type": "markdown",
   "metadata": {},
   "source": [
    "# ML Pipeline Preparation\n",
    "Follow the instructions below to help you create your ML pipeline.\n",
    "### 1. Import libraries and load data from database.\n",
    "- Import Python libraries\n",
    "- Load dataset from database with [`read_sql_table`](https://pandas.pydata.org/pandas-docs/stable/generated/pandas.read_sql_table.html)\n",
    "- Define feature and target variables X and Y"
   ]
  },
  {
   "cell_type": "code",
   "execution_count": 1,
   "metadata": {},
   "outputs": [],
   "source": [
    "# import libraries\n",
    "import pandas as pd\n",
    "from sqlalchemy import create_engine\n",
    "\n",
    "from sklearn.model_selection import train_test_split\n",
    "from sklearn.ensemble import RandomForestClassifier\n",
    "from sklearn.neighbors import KNeighborsClassifier\n",
    "from sklearn.multioutput import MultiOutputClassifier\n",
    "from sklearn.feature_extraction.text import CountVectorizer\n",
    "from sklearn.feature_extraction.text import TfidfTransformer\n",
    "from sklearn.pipeline import Pipeline\n",
    "from sklearn.metrics import classification_report\n",
    "from sklearn.model_selection import GridSearchCV\n",
    "\n",
    "import nltk, re, string\n",
    "#nltk.download(['punkt', 'wordnet', 'stopwords'])\n",
    "from nltk.tokenize import word_tokenize\n",
    "from nltk.corpus import stopwords\n",
    "from nltk.stem.wordnet import WordNetLemmatizer\n",
    "\n",
    "import pickle\n"
   ]
  },
  {
   "cell_type": "code",
   "execution_count": 2,
   "metadata": {},
   "outputs": [],
   "source": [
    "# load data from database\n",
    "db = \"DisasterResponse.db\"\n",
    "engine = create_engine('sqlite:///{}'.format(db))\n",
    "df = pd.read_sql_table(\"Messages\", engine)\n",
    "#df = pd.read_sql(\"SELECT * FROM Messages;\", engine)\n",
    "X = df['message'].copy()\n",
    "Y = df.iloc[:, 4:].copy()"
   ]
  },
  {
   "cell_type": "markdown",
   "metadata": {},
   "source": [
    "### 2. Write a tokenization function to process your text data"
   ]
  },
  {
   "cell_type": "code",
   "execution_count": 3,
   "metadata": {},
   "outputs": [],
   "source": [
    "def tokenize(text):\n",
    "    #Normalize to remove punctuation and make all words lower case\n",
    "    regex = re.compile('[%s]' % re.escape(string.punctuation))\n",
    "    text = regex.sub(\" \", text).lower()\n",
    "    \n",
    "    #Tokenize string.\n",
    "    tokens = word_tokenize(text)\n",
    "    \n",
    "    #Remove stopwords\n",
    "    tokens = [t for t in tokens if t not in stopwords.words(\"english\")]\n",
    "    \n",
    "    #Lemmatize tokens\n",
    "    lemmatizer = WordNetLemmatizer()\n",
    "    clean_tokens = [lemmatizer.lemmatize(t).strip() for t in tokens]\n",
    "\n",
    "    return clean_tokens"
   ]
  },
  {
   "cell_type": "markdown",
   "metadata": {},
   "source": [
    "### 3. Build a machine learning pipeline\n",
    "This machine pipeline should take in the `message` column as input and output classification results on the other 36 categories in the dataset. You may find the [MultiOutputClassifier](http://scikit-learn.org/stable/modules/generated/sklearn.multioutput.MultiOutputClassifier.html) helpful for predicting multiple target variables."
   ]
  },
  {
   "cell_type": "code",
   "execution_count": 4,
   "metadata": {},
   "outputs": [],
   "source": [
    "pipeline = Pipeline([\n",
    "    ('vect', CountVectorizer(tokenizer=tokenize)),\n",
    "    ('tfidf', TfidfTransformer()),\n",
    "    ('clf', MultiOutputClassifier(estimator=RandomForestClassifier()))\n",
    "])"
   ]
  },
  {
   "cell_type": "markdown",
   "metadata": {},
   "source": [
    "### 4. Train pipeline\n",
    "- Split data into train and test sets\n",
    "- Train pipeline"
   ]
  },
  {
   "cell_type": "code",
   "execution_count": 5,
   "metadata": {},
   "outputs": [
    {
     "name": "stdout",
     "output_type": "stream",
     "text": [
      "(26027,)\n",
      "(26027, 36)\n"
     ]
    }
   ],
   "source": [
    "print (X.shape)\n",
    "print (Y.shape)"
   ]
  },
  {
   "cell_type": "code",
   "execution_count": 6,
   "metadata": {},
   "outputs": [],
   "source": [
    "# perform train test split\n",
    "X_train, X_test, Y_train, Y_test = train_test_split(X, Y, random_state=0)"
   ]
  },
  {
   "cell_type": "code",
   "execution_count": 7,
   "metadata": {},
   "outputs": [
    {
     "data": {
      "text/plain": [
       "Pipeline(steps=[('vect',\n",
       "                 CountVectorizer(tokenizer=<function tokenize at 0x000001C6A61660D0>)),\n",
       "                ('tfidf', TfidfTransformer()),\n",
       "                ('clf',\n",
       "                 MultiOutputClassifier(estimator=RandomForestClassifier()))])"
      ]
     },
     "execution_count": 7,
     "metadata": {},
     "output_type": "execute_result"
    }
   ],
   "source": [
    "# either train new model or load existing model from pickle file\n",
    "pipeline.fit(X_train, Y_train)\n",
    "#pipeline = pickle.load(open(\"pipeline_fit.pkl\", 'rb'))"
   ]
  },
  {
   "cell_type": "code",
   "execution_count": 12,
   "metadata": {},
   "outputs": [],
   "source": [
    "# save copy of model to save time in the future\n",
    "pickle.dump(pipeline, open(\"pipeline_fit.pkl\", 'wb'))"
   ]
  },
  {
   "cell_type": "markdown",
   "metadata": {},
   "source": [
    "### 5. Test your model\n",
    "Report the f1 score, precision and recall for each output category of the dataset. You can do this by iterating through the columns and calling sklearn's `classification_report` on each."
   ]
  },
  {
   "cell_type": "code",
   "execution_count": 8,
   "metadata": {},
   "outputs": [],
   "source": [
    "# Use pipeline to generate prediction and compare to Test data\n",
    "Y_pred = pd.DataFrame(pipeline.predict(X_test), columns=Y.columns)"
   ]
  },
  {
   "cell_type": "code",
   "execution_count": 9,
   "metadata": {},
   "outputs": [
    {
     "name": "stdout",
     "output_type": "stream",
     "text": [
      "                        precision    recall  f1-score   support\n",
      "\n",
      "               related       0.84      0.95      0.89      4978\n",
      "               request       0.85      0.50      0.63      1155\n",
      "                 offer       1.00      0.00      0.00        27\n",
      "           aid_related       0.78      0.68      0.73      2765\n",
      "          medical_help       0.66      0.07      0.13       547\n",
      "      medical_products       0.80      0.09      0.17       339\n",
      "     search_and_rescue       0.64      0.03      0.06       205\n",
      "              security       0.50      0.01      0.02       118\n",
      "              military       0.67      0.06      0.10       213\n",
      "           child_alone       1.00      1.00      1.00         0\n",
      "                 water       0.92      0.35      0.50       447\n",
      "                  food       0.84      0.62      0.71       729\n",
      "               shelter       0.82      0.39      0.53       580\n",
      "              clothing       0.87      0.12      0.22       105\n",
      "                 money       0.60      0.02      0.04       146\n",
      "        missing_people       1.00      0.00      0.00        84\n",
      "              refugees       0.29      0.01      0.02       226\n",
      "                 death       0.87      0.18      0.30       294\n",
      "             other_aid       0.72      0.03      0.07       901\n",
      "infrastructure_related       0.00      0.00      0.00       426\n",
      "             transport       0.81      0.06      0.11       301\n",
      "             buildings       0.85      0.10      0.18       329\n",
      "           electricity       1.00      0.02      0.04       150\n",
      "                 tools       1.00      0.00      0.00        36\n",
      "             hospitals       1.00      0.00      0.00        75\n",
      "                 shops       1.00      0.00      0.00        30\n",
      "           aid_centers       1.00      0.00      0.00        87\n",
      "  other_infrastructure       1.00      0.00      0.00       281\n",
      "       weather_related       0.86      0.69      0.77      1890\n",
      "                floods       0.91      0.47      0.62       571\n",
      "                 storm       0.76      0.48      0.59       640\n",
      "                  fire       0.60      0.04      0.08        72\n",
      "            earthquake       0.90      0.81      0.85       629\n",
      "                  cold       0.78      0.15      0.24       124\n",
      "         other_weather       0.44      0.02      0.04       345\n",
      "         direct_report       0.79      0.37      0.51      1273\n",
      "\n",
      "             micro avg       0.83      0.53      0.65     21118\n",
      "             macro avg       0.79      0.23      0.28     21118\n",
      "          weighted avg       0.79      0.53      0.57     21118\n",
      "           samples avg       0.80      0.72      0.61     21118\n",
      "\n"
     ]
    }
   ],
   "source": [
    "print(classification_report(Y_test, Y_pred, target_names=Y_test.columns, digits=2, zero_division=1))"
   ]
  },
  {
   "cell_type": "code",
   "execution_count": 10,
   "metadata": {},
   "outputs": [
    {
     "data": {
      "text/plain": [
       "{'memory': None,\n",
       " 'steps': [('vect',\n",
       "   CountVectorizer(tokenizer=<function tokenize at 0x000001C6A61660D0>)),\n",
       "  ('tfidf', TfidfTransformer()),\n",
       "  ('clf', MultiOutputClassifier(estimator=RandomForestClassifier()))],\n",
       " 'verbose': False,\n",
       " 'vect': CountVectorizer(tokenizer=<function tokenize at 0x000001C6A61660D0>),\n",
       " 'tfidf': TfidfTransformer(),\n",
       " 'clf': MultiOutputClassifier(estimator=RandomForestClassifier()),\n",
       " 'vect__analyzer': 'word',\n",
       " 'vect__binary': False,\n",
       " 'vect__decode_error': 'strict',\n",
       " 'vect__dtype': numpy.int64,\n",
       " 'vect__encoding': 'utf-8',\n",
       " 'vect__input': 'content',\n",
       " 'vect__lowercase': True,\n",
       " 'vect__max_df': 1.0,\n",
       " 'vect__max_features': None,\n",
       " 'vect__min_df': 1,\n",
       " 'vect__ngram_range': (1, 1),\n",
       " 'vect__preprocessor': None,\n",
       " 'vect__stop_words': None,\n",
       " 'vect__strip_accents': None,\n",
       " 'vect__token_pattern': '(?u)\\\\b\\\\w\\\\w+\\\\b',\n",
       " 'vect__tokenizer': <function __main__.tokenize(text)>,\n",
       " 'vect__vocabulary': None,\n",
       " 'tfidf__norm': 'l2',\n",
       " 'tfidf__smooth_idf': True,\n",
       " 'tfidf__sublinear_tf': False,\n",
       " 'tfidf__use_idf': True,\n",
       " 'clf__estimator__bootstrap': True,\n",
       " 'clf__estimator__ccp_alpha': 0.0,\n",
       " 'clf__estimator__class_weight': None,\n",
       " 'clf__estimator__criterion': 'gini',\n",
       " 'clf__estimator__max_depth': None,\n",
       " 'clf__estimator__max_features': 'auto',\n",
       " 'clf__estimator__max_leaf_nodes': None,\n",
       " 'clf__estimator__max_samples': None,\n",
       " 'clf__estimator__min_impurity_decrease': 0.0,\n",
       " 'clf__estimator__min_impurity_split': None,\n",
       " 'clf__estimator__min_samples_leaf': 1,\n",
       " 'clf__estimator__min_samples_split': 2,\n",
       " 'clf__estimator__min_weight_fraction_leaf': 0.0,\n",
       " 'clf__estimator__n_estimators': 100,\n",
       " 'clf__estimator__n_jobs': None,\n",
       " 'clf__estimator__oob_score': False,\n",
       " 'clf__estimator__random_state': None,\n",
       " 'clf__estimator__verbose': 0,\n",
       " 'clf__estimator__warm_start': False,\n",
       " 'clf__estimator': RandomForestClassifier(),\n",
       " 'clf__n_jobs': None}"
      ]
     },
     "execution_count": 10,
     "metadata": {},
     "output_type": "execute_result"
    }
   ],
   "source": [
    "pipeline.get_params()"
   ]
  },
  {
   "cell_type": "markdown",
   "metadata": {},
   "source": [
    "### 6. Improve your model\n",
    "Use grid search to find better parameters. "
   ]
  },
  {
   "cell_type": "code",
   "execution_count": 11,
   "metadata": {},
   "outputs": [],
   "source": [
    "parameters = {\n",
    "    'clf__estimator__min_samples_split': [2, 3, 4]\n",
    "    , 'clf__estimator__n_estimators': [10, 50, 100]\n",
    "}\n",
    "cv = GridSearchCV(pipeline, param_grid=parameters, cv=2, verbose=2)"
   ]
  },
  {
   "cell_type": "code",
   "execution_count": null,
   "metadata": {},
   "outputs": [
    {
     "name": "stdout",
     "output_type": "stream",
     "text": [
      "Fitting 2 folds for each of 9 candidates, totalling 18 fits\n",
      "[CV] clf__estimator__min_samples_split=2, clf__estimator__n_estimators=10 \n"
     ]
    },
    {
     "name": "stderr",
     "output_type": "stream",
     "text": [
      "[Parallel(n_jobs=1)]: Using backend SequentialBackend with 1 concurrent workers.\n"
     ]
    },
    {
     "name": "stdout",
     "output_type": "stream",
     "text": [
      "[CV]  clf__estimator__min_samples_split=2, clf__estimator__n_estimators=10, total= 3.8min\n",
      "[CV] clf__estimator__min_samples_split=2, clf__estimator__n_estimators=10 \n"
     ]
    },
    {
     "name": "stderr",
     "output_type": "stream",
     "text": [
      "[Parallel(n_jobs=1)]: Done   1 out of   1 | elapsed:  3.8min remaining:    0.0s\n"
     ]
    },
    {
     "name": "stdout",
     "output_type": "stream",
     "text": [
      "[CV]  clf__estimator__min_samples_split=2, clf__estimator__n_estimators=10, total= 3.9min\n",
      "[CV] clf__estimator__min_samples_split=2, clf__estimator__n_estimators=50 \n",
      "[CV]  clf__estimator__min_samples_split=2, clf__estimator__n_estimators=50, total= 4.7min\n",
      "[CV] clf__estimator__min_samples_split=2, clf__estimator__n_estimators=50 \n",
      "[CV]  clf__estimator__min_samples_split=2, clf__estimator__n_estimators=50, total= 5.0min\n",
      "[CV] clf__estimator__min_samples_split=2, clf__estimator__n_estimators=100 \n",
      "[CV]  clf__estimator__min_samples_split=2, clf__estimator__n_estimators=100, total= 6.0min\n",
      "[CV] clf__estimator__min_samples_split=2, clf__estimator__n_estimators=100 \n",
      "[CV]  clf__estimator__min_samples_split=2, clf__estimator__n_estimators=100, total= 5.9min\n",
      "[CV] clf__estimator__min_samples_split=3, clf__estimator__n_estimators=10 \n",
      "[CV]  clf__estimator__min_samples_split=3, clf__estimator__n_estimators=10, total= 3.1min\n",
      "[CV] clf__estimator__min_samples_split=3, clf__estimator__n_estimators=10 \n",
      "[CV]  clf__estimator__min_samples_split=3, clf__estimator__n_estimators=10, total= 3.4min\n",
      "[CV] clf__estimator__min_samples_split=3, clf__estimator__n_estimators=50 \n",
      "[CV]  clf__estimator__min_samples_split=3, clf__estimator__n_estimators=50, total= 4.5min\n",
      "[CV] clf__estimator__min_samples_split=3, clf__estimator__n_estimators=50 \n",
      "[CV]  clf__estimator__min_samples_split=3, clf__estimator__n_estimators=50, total= 4.5min\n",
      "[CV] clf__estimator__min_samples_split=3, clf__estimator__n_estimators=100 \n",
      "[CV]  clf__estimator__min_samples_split=3, clf__estimator__n_estimators=100, total= 5.7min\n",
      "[CV] clf__estimator__min_samples_split=3, clf__estimator__n_estimators=100 \n",
      "[CV]  clf__estimator__min_samples_split=3, clf__estimator__n_estimators=100, total= 6.0min\n",
      "[CV] clf__estimator__min_samples_split=4, clf__estimator__n_estimators=10 \n"
     ]
    }
   ],
   "source": [
    "cv.fit(X_train, Y_train)"
   ]
  },
  {
   "cell_type": "code",
   "execution_count": null,
   "metadata": {},
   "outputs": [],
   "source": [
    "print(\"\\nBest Parameters:\", cv.best_params_)"
   ]
  },
  {
   "cell_type": "markdown",
   "metadata": {},
   "source": [
    "### 7. Test your model\n",
    "Show the accuracy, precision, and recall of the tuned model.  \n",
    "\n",
    "Since this project focuses on code quality, process, and  pipelines, there is no minimum performance metric needed to pass. However, make sure to fine tune your models for accuracy, precision and recall to make your project stand out - especially for your portfolio!"
   ]
  },
  {
   "cell_type": "code",
   "execution_count": null,
   "metadata": {},
   "outputs": [],
   "source": [
    "tuned_pipeline = Pipeline([\n",
    "    ('vect', CountVectorizer(tokenizer=tokenize)),\n",
    "    ('tfidf', TfidfTransformer()),\n",
    "    ('clf', MultiOutputClassifier(estimator=RandomForestClassifier(n_estimators=100, min_samples_split=3)))\n",
    "])"
   ]
  },
  {
   "cell_type": "code",
   "execution_count": null,
   "metadata": {},
   "outputs": [],
   "source": [
    "tuned_pipeline.fit(X_train, Y_train)"
   ]
  },
  {
   "cell_type": "code",
   "execution_count": null,
   "metadata": {},
   "outputs": [],
   "source": [
    "Y_pred_tuned = pd.DataFrame(tuned_cv.predict(X_test), columns=Y.columns)"
   ]
  },
  {
   "cell_type": "code",
   "execution_count": null,
   "metadata": {},
   "outputs": [],
   "source": [
    "print(classification_report(Y_test, Y_pred_tuned, target_names=Y_test.columns, digits=2, zero_division=1))"
   ]
  },
  {
   "cell_type": "markdown",
   "metadata": {},
   "source": [
    "### 8. Try improving your model further. Here are a few ideas:\n",
    "* try other machine learning algorithms\n",
    "* add other features besides the TF-IDF"
   ]
  },
  {
   "cell_type": "code",
   "execution_count": null,
   "metadata": {},
   "outputs": [],
   "source": [
    "#Build new ML pipeline using KNeighborsClassifier with default settings\n",
    "kn_pipeline = Pipeline([\n",
    "    ('vect', CountVectorizer(tokenizer=tokenize)),\n",
    "    ('tfidf', TfidfTransformer()),\n",
    "    ('clf', MultiOutputClassifier(estimator=KNeighborsClassifier()))\n",
    "])"
   ]
  },
  {
   "cell_type": "code",
   "execution_count": null,
   "metadata": {},
   "outputs": [],
   "source": [
    "#Fit the new ML pipeline\n",
    "kn_pipeline.fit(X_train, Y_train)"
   ]
  },
  {
   "cell_type": "code",
   "execution_count": null,
   "metadata": {},
   "outputs": [],
   "source": [
    "#Print classification report\n",
    "Y_pred_kn = pd.DataFrame(kn_pipeline.predict(X_test), columns=Y.columns)\n",
    "print(classification_report(Y_test, Y_pred_kn, target_names=Y_test.columns, digits=2, zero_division=1))"
   ]
  },
  {
   "cell_type": "markdown",
   "metadata": {},
   "source": [
    "## Results: \n",
    "Overall, the KNeighborsClassifier performed worse than the RandomForestClassifier using default settings.  Given more time to perform GridSearch it's possible that the performance could be improved."
   ]
  },
  {
   "cell_type": "markdown",
   "metadata": {},
   "source": [
    "### 9. Export your model as a pickle file"
   ]
  },
  {
   "cell_type": "code",
   "execution_count": null,
   "metadata": {},
   "outputs": [],
   "source": [
    "pickle.dump(tuned_cv, open(\"classifier.pkl\", 'wb'))"
   ]
  },
  {
   "cell_type": "markdown",
   "metadata": {},
   "source": [
    "### 10. Use this notebook to complete `train.py`\n",
    "Use the template file attached in the Resources folder to write a script that runs the steps above to create a database and export a model based on a new dataset specified by the user."
   ]
  },
  {
   "cell_type": "code",
   "execution_count": null,
   "metadata": {},
   "outputs": [],
   "source": []
  }
 ],
 "metadata": {
  "kernelspec": {
   "display_name": "Python 3",
   "language": "python",
   "name": "python3"
  },
  "language_info": {
   "codemirror_mode": {
    "name": "ipython",
    "version": 3
   },
   "file_extension": ".py",
   "mimetype": "text/x-python",
   "name": "python",
   "nbconvert_exporter": "python",
   "pygments_lexer": "ipython3",
   "version": "3.6.5"
  }
 },
 "nbformat": 4,
 "nbformat_minor": 2
}
